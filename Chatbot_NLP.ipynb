{
 "cells": [
  {
   "cell_type": "raw",
   "id": "3b1f8bad-3618-404f-9cbc-e7fef9fe06cb",
   "metadata": {},
   "source": [
    "# coding: utf-8\n",
    "# # Meet Robo: your friend\n",
    "​\n",
    "import nltk\n",
    "import warnings\n",
    "warnings.filterwarnings(\"ignore\")\n",
    "​\n",
    "# nltk.download() # for downloading packages\n",
    "import numpy as np\n",
    "import random\n",
    "import string # to process standard python strings\n",
    "\n",
    "# For our example,we will be using the Wikipedia page for chatbots as our corpus.\n",
    "# Copy the contents from the page and place it in a text file named ‘chatbot.txt’.\n",
    "# However, you can use any corpus of your choice.\n",
    "# We will read in the corpus.txt file\n",
    "f=open('chatbot.txt','r',errors = 'ignore')\n",
    "raw=f.read()\n",
    "raw=raw.lower()# converts to lowercase\n",
    "\n",
    "#nltk.download('punkt') # first-time use only\n",
    "#nltk.download('wordnet') # first-time use only\n",
    "\n",
    "# convert the entire corpus into a list of sentences and a list of words for further pre-processing\n",
    "sent_tokens = nltk.sent_tokenize(raw)# converts to list of sentences\n",
    "word_tokens = nltk.word_tokenize(raw)# converts to list of words\n",
    "​\n",
    "sent_tokens[:2]\n",
    "word_tokens[:5]\n",
    "\n",
    "sent_tokens[0]\n",
    "\n",
    "word_tokens[:5]\n",
    "\n",
    "\n",
    "#WordNet is a semantically-oriented dictionary of English included in NLTK.\n",
    "lemmer = nltk.stem.WordNetLemmatizer()\n",
    "​\n",
    "# LemTokens will take as input the tokens and return normalized tokens.\n",
    "def LemTokens(tokens):\n",
    "   return [lemmer.lemmatize(token) for token in tokens]\n",
    "​\n",
    "​\n",
    "remove_punct_dict = dict((ord(punct), None) for punct in string.punctuation)\n",
    "def LemNormalize(text):\n",
    "   return LemTokens(nltk.word_tokenize(text.lower().translate(remove_punct_dict)))\n",
    "\n",
    "GREETING_INPUTS = (\"hello\", \"hi\", \"greetings\", \"sup\", \"what's up\",\"hey\",)\n",
    "GREETING_RESPONSES = [\"hi\", \"hey\", \"*nods*\", \"hi there\", \"hello\", \"I am glad! You are talking to me\"]\n",
    "​\n",
    "# Checking for greetings\n",
    "# define a function for a greeting by the bot i.e if a user’s input is a greeting,\n",
    "# the bot shall return a greeting response.\n",
    "def greeting(sentence):\n",
    "   \"\"\"If user's input is a greeting, return a greeting response\"\"\"\n",
    "   for word in sentence.split():\n",
    "       if word.lower() in GREETING_INPUTS:\n",
    "           return random.choice(GREETING_RESPONSES)\n",
    "\n",
    "# the words need to be encoded as integers or floating point values\n",
    "# for use as input to a machine learning algorithm, called feature extraction (or vectorization).\n",
    "from sklearn.feature_extraction.text import TfidfVectorizer\n",
    "​\n",
    "# find the similarity between words entered by the user and the words in the corpus.\n",
    "# This is the simplest possible implementation of a chatbot.\n",
    "from sklearn.metrics.pairwise import cosine_similarity\n",
    "​\n",
    "​\n",
    "# Generating response\n",
    "# define a function response which searches the user’s utterance for one or more known keywords\n",
    "# and returns one of several possible responses. If it doesn’t find the input matching any of the keywords,\n",
    "# it returns a response:” I am sorry! I don’t understand you”\n",
    "def response(user_response):\n",
    "   robo_response=''\n",
    "   sent_tokens.append(user_response)\n",
    "  \n",
    "   # TF-IDF are word frequency scores that try to highlight words that are more interesting,\n",
    "   # e.g. frequent in a document but not across documents.\n",
    "   # The TfidfVectorizer will tokenize documents, learn the vocabulary and\n",
    "   # inverse document frequency weightings, and allow you to encode new documents.\n",
    "   TfidfVec = TfidfVectorizer(tokenizer=LemNormalize, stop_words='english')\n",
    "​\n",
    "   # Learn vocabulary and idf, return term-document matrix\n",
    "   # Returns X : Tf-idf-weighted sparse matrix, [n_samples, n_features] \n",
    "   tfidf = TfidfVec.fit_transform(sent_tokens)\n",
    "   # print (tfidf.shape)\n",
    "  \n",
    "   # Cosine similarity is a measure of similarity between two non-zero vectors.\n",
    "   # Using this formula we can find out the similarity between any two documents d1 and d2.\n",
    "   # Cosine Similarity (d1, d2) =  Dot product(d1, d2) / ||d1|| * ||d2||\n",
    "   vals = cosine_similarity(tfidf[-1], tfidf)\n",
    "  \n",
    "  \n",
    "   # function is used to perform an indirect sort along the given axis using the algorithm\n",
    "   # specified by the kind keyword. It returns an array of indices of the same shape as arr\n",
    "   # that would sort the array.\n",
    "   idx=vals.argsort()[0][-2]\n",
    "  \n",
    "   # Returns a new array that is a one-dimensional flattening of this array (recursively).\n",
    "   # That is, for every element that is an array, extract its elements into the new array.\n",
    "   # If the optional level argument determines the level of recursion to flatten.\n",
    "   flat = vals.flatten()\n",
    "  \n",
    "   flat.sort()\n",
    "   req_tfidf = flat[-2]\n",
    "​\n",
    "   if(req_tfidf==0):\n",
    "       robo_response=robo_response+\"I am sorry! I don't understand you\"\n",
    "       return robo_response\n",
    "   else:\n",
    "       robo_response = robo_response+sent_tokens[idx]\n",
    "       return robo_response\n",
    "​\n",
    "​\n",
    "flag=True\n",
    "print(\"ROBO: My name is Chatty. I will answer your queries about Chatbots. If you want to exit, type Bye!\")\n",
    "​\n",
    "while(flag==True):\n",
    "   user_response = input()\n",
    "   user_response=user_response.lower()\n",
    "   if(user_response!='bye'):\n",
    "       if(user_response=='thanks' or user_response=='thank you' ):\n",
    "           flag=False\n",
    "           print(\"ROBO: You are welcome..\")\n",
    "       else:\n",
    "           if(greeting(user_response)!=None):\n",
    "               print(\"ROBO: \"+greeting(user_response))\n",
    "           else:\n",
    "               print(\"ROBO: \",end=\"\")\n",
    "               print(response(user_response))\n",
    "               sent_tokens.remove(user_response)\n",
    "   else:\n",
    "       flag=False\n",
    "       print(\"ROBO: Bye! take care..\")   \n",
    "​\n",
    "\n"
   ]
  },
  {
   "cell_type": "code",
   "execution_count": 16,
   "id": "6cfad11e-00c3-443e-a87b-84b2eee303f7",
   "metadata": {},
   "outputs": [],
   "source": [
    "# coding: utf-8\n",
    "# # Meet Robo: your friend\n",
    "import nltk\n",
    "import warnings\n",
    "warnings.filterwarnings(\"ignore\")\n",
    "# nltk.download() # for downloading packages"
   ]
  },
  {
   "cell_type": "code",
   "execution_count": 18,
   "id": "a30da0ae-d566-42fe-9c61-4fbee32c4245",
   "metadata": {},
   "outputs": [],
   "source": [
    "import numpy as np\n",
    "import random\n",
    "import string # to process standard python strings"
   ]
  },
  {
   "cell_type": "code",
   "execution_count": 51,
   "id": "486495a1-51d7-4e02-8303-ca4febe99fb4",
   "metadata": {},
   "outputs": [],
   "source": [
    "# For our example,we will be using the Wikipedia page for chatbots as our corpus.\n",
    "# Copy the contents from the page and place it in a text file named ‘chatbot.txt’.\n",
    "# However, you can use any corpus of your choice.\n",
    "# We will read in the corpus.txt file\n",
    "f=open('chatbot.txt','r',errors = 'ignore')\n",
    "raw=f.read()\n",
    "raw=raw.lower()# converts to lowercase"
   ]
  },
  {
   "cell_type": "code",
   "execution_count": 27,
   "id": "84b179d2-4cae-4981-8b79-7bd3a8624293",
   "metadata": {},
   "outputs": [
    {
     "name": "stderr",
     "output_type": "stream",
     "text": [
      "[nltk_data] Downloading package punkt to\n",
      "[nltk_data]     C:\\Users\\Asus\\AppData\\Roaming\\nltk_data...\n",
      "[nltk_data]   Package punkt is already up-to-date!\n",
      "[nltk_data] Downloading package wordnet to\n",
      "[nltk_data]     C:\\Users\\Asus\\AppData\\Roaming\\nltk_data...\n",
      "[nltk_data]   Package wordnet is already up-to-date!\n"
     ]
    },
    {
     "data": {
      "text/plain": [
       "True"
      ]
     },
     "execution_count": 27,
     "metadata": {},
     "output_type": "execute_result"
    }
   ],
   "source": [
    "#nltk.download('punkt') # first-time use only\n",
    "#nltk.download('wordnet') # first-time use only"
   ]
  },
  {
   "cell_type": "code",
   "execution_count": 53,
   "id": "ebb2a5e6-b982-478b-82fb-8cbbbb197400",
   "metadata": {},
   "outputs": [
    {
     "data": {
      "text/plain": [
       "['for', 'free', 'distribution', '1', '01']"
      ]
     },
     "execution_count": 53,
     "metadata": {},
     "output_type": "execute_result"
    }
   ],
   "source": [
    "# convert the entire corpus into a list of sentences and a list of words for further pre-processing\n",
    "sent_tokens = nltk.sent_tokenize(raw)# converts to list of sentences\n",
    "word_tokens = nltk.word_tokenize(raw)# converts to list of words\n",
    "\n",
    "sent_tokens[:2]\n",
    "word_tokens[:5]\n",
    "\n",
    "sent_tokens[0]\n",
    "word_tokens[:5]"
   ]
  },
  {
   "cell_type": "code",
   "execution_count": 55,
   "id": "f9c9f9fd-893e-4eb2-baf4-c88783f18682",
   "metadata": {},
   "outputs": [],
   "source": [
    "#WordNet is a semantically-oriented dictionary of English included in NLTK.\n",
    "lemmer = nltk.stem.WordNetLemmatizer()"
   ]
  },
  {
   "cell_type": "code",
   "execution_count": 57,
   "id": "e5fa5510-18f7-4a13-aa57-b7239c8db0ab",
   "metadata": {},
   "outputs": [],
   "source": [
    "# LemTokens will take as input the tokens and return normalized tokens.\n",
    "def LemTokens(tokens):\n",
    "   return [lemmer.lemmatize(token) for token in tokens]"
   ]
  },
  {
   "cell_type": "code",
   "execution_count": 59,
   "id": "05138241-4d08-4d59-9b5b-1d174a4ebb53",
   "metadata": {},
   "outputs": [],
   "source": [
    "remove_punct_dict = dict((ord(punct), None) for punct in string.punctuation)\n",
    "def LemNormalize(text):\n",
    "   return LemTokens(nltk.word_tokenize(text.lower().translate(remove_punct_dict)))"
   ]
  },
  {
   "cell_type": "code",
   "execution_count": 61,
   "id": "020dfbab-f118-4baa-82fb-772967a4632f",
   "metadata": {},
   "outputs": [],
   "source": [
    "GREETING_INPUTS = (\"hello\", \"hi\", \"greetings\", \"sup\", \"what's up\",\"hey\",)\n",
    "GREETING_RESPONSES = [\"hi\", \"hey\", \"*nods*\", \"hi there\", \"hello\", \"I am glad! You are talking to me\"]\n",
    "\n",
    "# Checking for greetings\n",
    "# define a function for a greeting by the bot i.e if a user’s input is a greeting,\n",
    "# the bot shall return a greeting response.\n",
    "def greeting(sentence):\n",
    "   \"\"\"If user's input is a greeting, return a greeting response\"\"\"\n",
    "   for word in sentence.split():\n",
    "       if word.lower() in GREETING_INPUTS:\n",
    "           return random.choice(GREETING_RESPONSES)"
   ]
  },
  {
   "cell_type": "code",
   "execution_count": 63,
   "id": "035bf30b-415c-4933-b9f0-97a4c4be1ffb",
   "metadata": {},
   "outputs": [],
   "source": [
    "# the words need to be encoded as integers or floating point values\n",
    "# for use as input to a machine learning algorithm, called feature extraction (or vectorization).\n",
    "from sklearn.feature_extraction.text import TfidfVectorizer\n",
    "\n",
    "# find the similarity between words entered by the user and the words in the corpus.\n",
    "# This is the simplest possible implementation of a chatbot.\n",
    "from sklearn.metrics.pairwise import cosine_similarity"
   ]
  },
  {
   "cell_type": "code",
   "execution_count": 65,
   "id": "d974c2b8-ec57-4f33-add1-e9173ad3aca6",
   "metadata": {},
   "outputs": [],
   "source": [
    "# Generating response\n",
    "# define a function response which searches the user’s utterance for one or more known keywords\n",
    "# and returns one of several possible responses. If it doesn’t find the input matching any of the keywords,\n",
    "# it returns a response:” I am sorry! I don’t understand you”\n",
    "def response(user_response):\n",
    "   robo_response=''\n",
    "   sent_tokens.append(user_response)\n",
    "    \n",
    "   # TF-IDF are word frequency scores that try to highlight words that are more interesting,\n",
    "   # e.g. frequent in a document but not across documents.\n",
    "   # The TfidfVectorizer will tokenize documents, learn the vocabulary and\n",
    "   # inverse document frequency weightings, and allow you to encode new documents.\n",
    "   TfidfVec = TfidfVectorizer(tokenizer=LemNormalize, stop_words='english')\n",
    "    \n",
    "   # Learn vocabulary and idf, return term-document matrix\n",
    "   # Returns X : Tf-idf-weighted sparse matrix, [n_samples, n_features] \n",
    "   tfidf = TfidfVec.fit_transform(sent_tokens)\n",
    "   # print (tfidf.shape)\n",
    "    \n",
    "   # Cosine similarity is a measure of similarity between two non-zero vectors.\n",
    "   # Using this formula we can find out the similarity between any two documents d1 and d2.\n",
    "   # Cosine Similarity (d1, d2) =  Dot product(d1, d2) / ||d1|| * ||d2||\n",
    "   vals = cosine_similarity(tfidf[-1], tfidf)\n",
    "    \n",
    "   # function is used to perform an indirect sort along the given axis using the algorithm\n",
    "   # specified by the kind keyword. It returns an array of indices of the same shape as arr\n",
    "   # that would sort the array.\n",
    "   idx=vals.argsort()[0][-2]\n",
    "    \n",
    "   # Returns a new array that is a one-dimensional flattening of this array (recursively).\n",
    "   # That is, for every element that is an array, extract its elements into the new array.\n",
    "   # If the optional level argument determines the level of recursion to flatten.\n",
    "   flat = vals.flatten()\n",
    "    \n",
    "   flat.sort()\n",
    "   req_tfidf = flat[-2]\n",
    "    \n",
    "   if(req_tfidf==0):\n",
    "       robo_response=robo_response+\"I am sorry! I don't understand you\"\n",
    "       return robo_response\n",
    "   else:\n",
    "       robo_response = robo_response+sent_tokens[idx]\n",
    "       return robo_response"
   ]
  },
  {
   "cell_type": "code",
   "execution_count": null,
   "id": "c7a8d9ce-e5be-4f2c-a8ad-7e407cf23913",
   "metadata": {},
   "outputs": [
    {
     "name": "stdout",
     "output_type": "stream",
     "text": [
      "ROBO: My name is LawChat. I will answer your queries about Sri Lankan Law. If you want to exit, type Bye!\n"
     ]
    }
   ],
   "source": [
    "flag=True\n",
    "print(\"ROBO: My name is LawChat. I will answer your queries about Sri Lankan Law. If you want to exit, type Bye!\")\n",
    "\n",
    "while(flag==True):\n",
    "   user_response = input()\n",
    "   user_response=user_response.lower()\n",
    "   if(user_response!='bye'):\n",
    "       if(user_response=='thanks' or user_response=='thank you' ):\n",
    "           flag=False\n",
    "           print(\"ROBO: You are welcome..\")\n",
    "       else:\n",
    "           if(greeting(user_response)!=None):\n",
    "               print(\"ROBO: \"+greeting(user_response))\n",
    "           else:\n",
    "               print(\"ROBO: \",end=\"\")\n",
    "               print(response(user_response))\n",
    "               sent_tokens.remove(user_response)\n",
    "   else:\n",
    "       flag=False\n",
    "       print(\"ROBO: Bye! take care..\")"
   ]
  },
  {
   "cell_type": "code",
   "execution_count": null,
   "id": "2bee87ae-b6db-4f59-befe-7bfc37279bb7",
   "metadata": {},
   "outputs": [],
   "source": []
  }
 ],
 "metadata": {
  "kernelspec": {
   "display_name": "Python 3 (ipykernel)",
   "language": "python",
   "name": "python3"
  },
  "language_info": {
   "codemirror_mode": {
    "name": "ipython",
    "version": 3
   },
   "file_extension": ".py",
   "mimetype": "text/x-python",
   "name": "python",
   "nbconvert_exporter": "python",
   "pygments_lexer": "ipython3",
   "version": "3.12.4"
  }
 },
 "nbformat": 4,
 "nbformat_minor": 5
}
